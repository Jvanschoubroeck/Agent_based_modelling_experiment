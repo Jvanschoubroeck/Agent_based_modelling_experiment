{
 "cells": [
  {
   "cell_type": "markdown",
   "metadata": {},
   "source": [
    "# Dots on a line agent-based-modelling experiment\n"
   ]
  },
  {
   "cell_type": "markdown",
   "metadata": {},
   "source": [
    "This file contains two classes: a creature class Dot and an environment class Line. Objects from the Dot class (will call them dots from now on) live in an environment (so far only lines, but can be expaned). dots can only sense one dot above and one fot below them. The agent behaviour is that dots are afraid of one another, so every time they sense other dots, they act and position themselves in the middle between their neighbouring dots. When a dot acts, it sometimes takes a random step."
   ]
  },
  {
   "cell_type": "code",
   "execution_count": null,
   "metadata": {
    "collapsed": true
   },
   "outputs": [],
   "source": [
    "import numpy as np\n",
    "import matplotlib.pyplot as plt\n",
    "%matplotlib notebook"
   ]
  },
  {
   "cell_type": "code",
   "execution_count": null,
   "metadata": {
    "collapsed": false
   },
   "outputs": [],
   "source": [
    "class Dot:\n",
    "    \"\"\"Generates creature of type dot.\n",
    "    \n",
    "    A dot lives in an environment. It can sense, act or stay.\n",
    "    \n",
    "    Attributes\n",
    "    ----------\n",
    "    envrmt: environment class object\n",
    "        Environment the dot lives in\n",
    "    \n",
    "    \"\"\"\n",
    "    \n",
    "    def __init__(self, init_pos=None, visib=True, max_step=30):\n",
    "        \"\"\"Initialize dot object.\n",
    "        \n",
    "        Parameters\n",
    "        ----------\n",
    "        init_pos: float, optional\n",
    "            Initial position of dot.\n",
    "            If not supplied, random number is taken.\n",
    "        \n",
    "        visib: bool, optional\n",
    "            If creature is visible to other creatures.\n",
    "            If not passed, initiated as True.\n",
    "        max_step: float, optional\n",
    "            Maximimum step size.\n",
    "            If not passed, initiated as 10.\n",
    "        \"\"\"\n",
    "        if init_pos is None:\n",
    "            init_pos = np.random.randint(1, 100)\n",
    "        self.hist = [init_pos]\n",
    "        self.envrmt = None\n",
    "        self.max_step = max_step\n",
    "        self.visib = visib\n",
    "        \n",
    "    def sense(self):\n",
    "        \"\"\"Sense position of neighbour objects.\"\"\"\n",
    "        cl_l, cl_r = self.envrmt.nearest(self)\n",
    "        self.act(np.array([cl_l, cl_r]))\n",
    "        \n",
    "    def act(self, others):\n",
    "        \"\"\"Take step size according to sense.\"\"\"\n",
    "        randnum = np.random.randint(-100, 100)\n",
    "        if abs(randnum) < 5:\n",
    "            # small probability of random step\n",
    "            self.hist.append(self.hist[-1] + randnum)\n",
    "        else:\n",
    "            # Step taken is the minimum of the average between neighbours and max step size\n",
    "            self.hist.append(self.hist[-1] + min(np.average(others), self.max_step))\n",
    "            \n",
    "    def stay(self):\n",
    "        \"\"\"Stay at current position.\"\"\"\n",
    "        self.hist.append(self.hist[-1])\n",
    "    \n",
    "class Line:\n",
    "    \"\"\"To be added\"\"\"\n",
    "    def __init__(self, creat_ls=[]):\n",
    "        self.creat_ls = []\n",
    "        for creat in creat_ls:\n",
    "            self.add_creat(creat)\n",
    "    \n",
    "    def nearest(self, obj):\n",
    "        \"\"\"To be added\"\"\"\n",
    "        min_l = -1e3\n",
    "        min_r = 1e3\n",
    "        other_obj = self.creat_ls.copy()\n",
    "        other_obj.remove(obj)\n",
    "        for creat in other_obj:\n",
    "            if abs(len(obj.hist) - len(creat.hist)) > 1:\n",
    "                raise ValueError ('Maximum timestep difference > 1.')\n",
    "            # Using loc, locations of creatures are compared at equal times\n",
    "            loc = len(obj.hist) - 1\n",
    "            dist = creat.hist[loc] - obj.hist[loc]\n",
    "            if dist < 0 and abs(dist) < abs(min_l) and creat.visib == True:\n",
    "                min_l = dist\n",
    "            elif dist > 0 and dist < min_r and creat.visib == True:\n",
    "                min_r = dist\n",
    "        return min_l, min_r\n",
    "        \n",
    "    def add_creat(self, new_cr):\n",
    "        \"\"\"To be added\"\"\"\n",
    "        self.creat_ls.append(new_cr)\n",
    "        new_cr.envrmt = self\n",
    "        \n",
    "    def plot(self):\n",
    "        \"\"\"To be added\"\"\"\n",
    "        fig = plt.figure()\n",
    "        ax = plt.axes()\n",
    "        markers = ['*', 'o', 'D', '<', '+', '>', 'v', '^', '1', '2', '3', '4', '8']\n",
    "        for n, creat in enumerate(self.creat_ls):\n",
    "            ax.plot(range(len(creat.hist)), creat.hist)#, marker=markers[n])\n",
    "        plt.ylim(-5, 105)\n",
    "        plt.plot()\n",
    "        "
   ]
  },
  {
   "cell_type": "code",
   "execution_count": null,
   "metadata": {
    "collapsed": false
   },
   "outputs": [],
   "source": [
    "# Initiate all the dots\n",
    "# Two dots are placed on the boundary of the domain, now position 1 and 100\n",
    "d_1 = Dot(init_pos=1)\n",
    "d_2 = Dot()\n",
    "d_3 = Dot()\n",
    "d_4 = Dot()\n",
    "d_5 = Dot()\n",
    "d_6 = Dot()\n",
    "d_7 = Dot()\n",
    "d_8 = Dot()\n",
    "d_9 = Dot()\n",
    "d_10 = Dot()\n",
    "d_11 = Dot()\n",
    "d_12 = Dot(init_pos=100)"
   ]
  },
  {
   "cell_type": "code",
   "execution_count": null,
   "metadata": {
    "collapsed": false
   },
   "outputs": [],
   "source": [
    "d_8.envrmt"
   ]
  },
  {
   "cell_type": "code",
   "execution_count": null,
   "metadata": {
    "collapsed": false
   },
   "outputs": [],
   "source": [
    "# Generate an environment name and add the dots\n",
    "line_1 = Line(creat_ls=[d_1, d_2, d_3, d_4, d_5, d_6, d_7, d_8, d_9, d_10, d_11, d_12])"
   ]
  },
  {
   "cell_type": "code",
   "execution_count": null,
   "metadata": {
    "collapsed": false
   },
   "outputs": [],
   "source": [
    "# Calling 150 timesteps\n",
    "for n in range(150):\n",
    "    d_1.stay()\n",
    "    d_2.sense()\n",
    "    d_3.sense()\n",
    "    d_4.sense()\n",
    "    d_5.sense()\n",
    "    d_6.sense()\n",
    "    d_7.sense()\n",
    "    d_8.sense()\n",
    "    d_9.sense()\n",
    "    d_10.sense()\n",
    "    d_11.sense()\n",
    "    d_12.stay()"
   ]
  },
  {
   "cell_type": "code",
   "execution_count": null,
   "metadata": {
    "collapsed": false
   },
   "outputs": [],
   "source": [
    "# Plotting all the movement of the dots\n",
    "line_1.plot()"
   ]
  },
  {
   "cell_type": "code",
   "execution_count": null,
   "metadata": {
    "collapsed": true
   },
   "outputs": [],
   "source": []
  }
 ],
 "metadata": {
  "kernelspec": {
   "display_name": "Python [default]",
   "language": "python",
   "name": "python3"
  },
  "language_info": {
   "codemirror_mode": {
    "name": "ipython",
    "version": 3
   },
   "file_extension": ".py",
   "mimetype": "text/x-python",
   "name": "python",
   "nbconvert_exporter": "python",
   "pygments_lexer": "ipython3",
   "version": "3.5.2"
  }
 },
 "nbformat": 4,
 "nbformat_minor": 2
}
